{
 "cells": [
  {
   "cell_type": "code",
   "execution_count": 31,
   "outputs": [],
   "source": [
    "import pandas as pd\n",
    "import numpy as np\n",
    "from sklearn.neighbors import KNeighborsClassifier\n",
    "from sklearn.model_selection import train_test_split, cross_val_score\n",
    "import pickle"
   ],
   "metadata": {
    "collapsed": false,
    "pycharm": {
     "name": "#%%\n"
    }
   }
  },
  {
   "cell_type": "code",
   "execution_count": 32,
   "outputs": [],
   "source": [
    "milk_training_data = pd.read_csv('milk_training_data.csv', delimiter=',')"
   ],
   "metadata": {
    "collapsed": false,
    "pycharm": {
     "name": "#%%\n"
    }
   }
  },
  {
   "cell_type": "code",
   "execution_count": 33,
   "outputs": [
    {
     "name": "stdout",
     "output_type": "stream",
     "text": [
      "    pH  Temprature  Taste  Odor  Fat   Turbidity  Colour   Grade\n",
      "0  6.6          35      1     0     1          0     254    high\n",
      "1  6.6          36      0     1     0          1     253    high\n",
      "2  8.5          70      1     1     1          1     246     low\n",
      "3  9.5          34      1     1     0          1     255     low\n",
      "4  6.6          37      0     0     0          0     255  medium\n"
     ]
    }
   ],
   "source": [
    "print(milk_training_data.head())"
   ],
   "metadata": {
    "collapsed": false,
    "pycharm": {
     "name": "#%%\n"
    }
   }
  },
  {
   "cell_type": "code",
   "execution_count": 34,
   "outputs": [],
   "source": [
    "milk_training_data.rename(columns={'Colour':'Color'}, inplace = True)\n",
    "milk_training_data.rename(columns={'Temprature':'Temperature'}, inplace = True)\n",
    "milk_training_data.rename(columns={'Fat ':'Fat'}, inplace = True)"
   ],
   "metadata": {
    "collapsed": false,
    "pycharm": {
     "name": "#%%\n"
    }
   }
  },
  {
   "cell_type": "code",
   "execution_count": 35,
   "outputs": [],
   "source": [
    "milk_training_data.columns = [col.lower() for col in milk_training_data.columns]"
   ],
   "metadata": {
    "collapsed": false,
    "pycharm": {
     "name": "#%%\n"
    }
   }
  },
  {
   "cell_type": "code",
   "execution_count": 36,
   "outputs": [
    {
     "name": "stdout",
     "output_type": "stream",
     "text": [
      "    ph  temperature  taste  odor  fat  turbidity  color   grade\n",
      "0  6.6           35      1     0    1          0    254    high\n",
      "1  6.6           36      0     1    0          1    253    high\n",
      "2  8.5           70      1     1    1          1    246     low\n",
      "3  9.5           34      1     1    0          1    255     low\n",
      "4  6.6           37      0     0    0          0    255  medium\n"
     ]
    }
   ],
   "source": [
    "print(milk_training_data.head())"
   ],
   "metadata": {
    "collapsed": false,
    "pycharm": {
     "name": "#%%\n"
    }
   }
  },
  {
   "cell_type": "code",
   "execution_count": 37,
   "outputs": [
    {
     "name": "stdout",
     "output_type": "stream",
     "text": [
      "[5, 10, 15, 20, 25]\n"
     ]
    }
   ],
   "source": [
    "k_values = [num for num in range(5, 26, 5)]\n",
    "print(k_values)"
   ],
   "metadata": {
    "collapsed": false,
    "pycharm": {
     "name": "#%%\n"
    }
   }
  },
  {
   "cell_type": "code",
   "execution_count": 38,
   "outputs": [],
   "source": [
    "mean_scores = []"
   ],
   "metadata": {
    "collapsed": false,
    "pycharm": {
     "name": "#%%\n"
    }
   }
  },
  {
   "cell_type": "code",
   "execution_count": 39,
   "outputs": [],
   "source": [
    "X = milk_training_data.drop('grade', axis=1)\n",
    "y = milk_training_data['grade']\n",
    "X_train, X_test, y_train, y_test = train_test_split(X, y, test_size=0.25, random_state=1234)"
   ],
   "metadata": {
    "collapsed": false,
    "pycharm": {
     "name": "#%%\n"
    }
   }
  },
  {
   "cell_type": "code",
   "execution_count": 40,
   "outputs": [],
   "source": [
    "for k in k_values:\n",
    "    # Создание модели k-ближайших соседей\n",
    "    knn = KNeighborsClassifier(n_neighbors=k)\n",
    "    knn.fit(X_train, y_train)\n",
    "\n",
    "    # Вычисление средней оценки точности с использованием перекрестной проверки\n",
    "    scores = cross_val_score(knn, X_train, y_train, cv=5, scoring='accuracy')  # cv=5 означает 5-кратную перекрестную проверку\n",
    "    mean_scores.append(np.mean(scores))"
   ],
   "metadata": {
    "collapsed": false,
    "pycharm": {
     "name": "#%%\n"
    }
   }
  },
  {
   "cell_type": "code",
   "execution_count": 41,
   "outputs": [
    {
     "name": "stdout",
     "output_type": "stream",
     "text": [
      "k =5 Mean Accuracy: 0.9861635220125787\n",
      "k =10 Mean Accuracy: 0.9697953984555371\n",
      "k =15 Mean Accuracy: 0.9483560226096648\n",
      "k =20 Mean Accuracy: 0.9118223071411512\n",
      "k =25 Mean Accuracy: 0.9105405620571612\n"
     ]
    }
   ],
   "source": [
    "for k, score in zip(k_values, mean_scores):\n",
    "    print (f\"k ={k} Mean Accuracy: {score}\")"
   ],
   "metadata": {
    "collapsed": false,
    "pycharm": {
     "name": "#%%\n"
    }
   }
  },
  {
   "cell_type": "code",
   "execution_count": 42,
   "outputs": [],
   "source": [
    "knn = KNeighborsClassifier(n_neighbors=25)\n",
    "knn.fit(X_train, y_train)\n",
    "knnPickle = open('knnpickle_file', 'wb')\n",
    "pickle.dump(knn, knnPickle)\n",
    "knnPickle.close()"
   ],
   "metadata": {
    "collapsed": false,
    "pycharm": {
     "name": "#%%\n"
    }
   }
  },
  {
   "cell_type": "code",
   "execution_count": 43,
   "outputs": [
    {
     "name": "stdout",
     "output_type": "stream",
     "text": [
      "<class 'pandas.core.frame.DataFrame'>\n",
      "RangeIndex: 1 entries, 0 to 0\n",
      "Data columns (total 7 columns):\n",
      " #   Column       Non-Null Count  Dtype  \n",
      "---  ------       --------------  -----  \n",
      " 0   ph           1 non-null      float64\n",
      " 1   temperature  1 non-null      int32  \n",
      " 2   taste        1 non-null      int32  \n",
      " 3   odor         1 non-null      int32  \n",
      " 4   fat          1 non-null      int32  \n",
      " 5   turbidity    1 non-null      int32  \n",
      " 6   color        1 non-null      int32  \n",
      "dtypes: float64(1), int32(6)\n",
      "memory usage: 160.0 bytes\n",
      "None\n",
      "    ph  temperature  taste  odor  fat  turbidity  color\n",
      "0  6.0           35      0     0    0          0    254\n",
      "Прогноз качества молока: ['medium']\n"
     ]
    }
   ],
   "source": [
    "def forecast_milk_grade(ph, temperature, taste, odor, fat, turbidity, color):\n",
    "    new_milk_grade = pd.DataFrame({'ph': [ph], 'temperature': [temperature], 'taste': [taste], 'odor': [odor], 'fat': [fat], 'turbidity': [turbidity], 'color': [color]})\n",
    "    new_milk_grade = new_milk_grade.astype('int')\n",
    "    new_milk_grade['ph'] = new_milk_grade['ph'].astype('float')\n",
    "    print(new_milk_grade.info())\n",
    "    print(new_milk_grade.head())\n",
    "    loaded_model = pickle.load(open('knnpickle_file', 'rb'))\n",
    "    forecast = knn.predict(new_milk_grade)\n",
    "    return print(f\"Прогноз качества молока: {forecast}\")\n",
    "\n",
    "forecast_milk_grade(6.6, 35, 0, 0, 0, 0, 254)"
   ],
   "metadata": {
    "collapsed": false,
    "pycharm": {
     "name": "#%%\n"
    }
   }
  },
  {
   "cell_type": "code",
   "execution_count": 43,
   "outputs": [],
   "source": [],
   "metadata": {
    "collapsed": false,
    "pycharm": {
     "name": "#%%\n"
    }
   }
  }
 ],
 "metadata": {
  "kernelspec": {
   "display_name": "Python 3",
   "language": "python",
   "name": "python3"
  },
  "language_info": {
   "codemirror_mode": {
    "name": "ipython",
    "version": 2
   },
   "file_extension": ".py",
   "mimetype": "text/x-python",
   "name": "python",
   "nbconvert_exporter": "python",
   "pygments_lexer": "ipython2",
   "version": "2.7.6"
  }
 },
 "nbformat": 4,
 "nbformat_minor": 0
}
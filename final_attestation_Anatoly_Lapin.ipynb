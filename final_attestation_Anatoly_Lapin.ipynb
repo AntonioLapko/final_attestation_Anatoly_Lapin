{
 "cells": [
  {
   "cell_type": "markdown",
   "metadata": {
    "collapsed": false,
    "jupyter": {
     "outputs_hidden": false
    },
    "pycharm": {
     "name": "#%% md\n"
    }
   },
   "source": [
    "Тема аттестационной работы: разработка веб-приложения для опеределения качества молока с использованием машинного обучения.\n",
    "\n",
    "Цель исследования: повышение эффективности (оптимизация) лабораторных исследований в части определения уровня качества молока с использованием машинного обучения в промышленности.\n",
    "\n",
    "Название датасета - качество молока\n",
    "Используется алгоритм классического машинного обучения Catboost (класиификация).\n",
    "\n",
    "О наборе данных.\n",
    "Текущий набор данных собирается вручную на основе наблюдений. Это помогает создавать модели машинного обучения для прогнозирования качества молока.\n",
    "Набор данных состоит из 7 независимых переменных:\n",
    " - кислотности (ph);\n",
    " - температуры (temperature);\n",
    " - вкуса (taste);\n",
    " - запаха (odor);\n",
    " - жира (fat);\n",
    " - мутности (turbidity);\n",
    " - цвета (color).\n",
    "Сорт или качество молока зависит от этих параметров.\n",
    "Вышеуказанные параметры играют важную роль при определении качества молока молока.\n",
    "\n",
    "Целевой переменной является сорт молока, определяющий его качество.\n",
    "Результатом классификации качества молока могут быть следующие значения:\n",
    "- непригодное;\n",
    "- умеренное;\n",
    "- высокое.\n",
    "\n",
    "Если вкус, запах, жир и мутность удовлетворяют оптимальным условиям, им присваивается 1, в противном случае — 0.\n",
    "Для оптимизации данные категориальные признаки не будут участвовать в задаче классификации.\n",
    "\n",
    "Фактические значения температуры и pH указаны в наборе данных.\n",
    "\n",
    "Нам необходимо выполнить предварительную обработку данных и методы увеличения данных для построения статистических и прогнозных моделей для прогнозирования качества молока.\n",
    "\n"
   ]
  },
  {
   "cell_type": "markdown",
   "metadata": {
    "collapsed": false,
    "jupyter": {
     "outputs_hidden": false
    },
    "pycharm": {
     "name": "#%% md\n"
    }
   },
   "source": [
    "Импорт требуемых для данного исследования библиотек."
   ]
  },
  {
   "cell_type": "code",
   "execution_count": 127,
   "metadata": {
    "collapsed": true,
    "jupyter": {
     "outputs_hidden": true
    },
    "pycharm": {
     "name": "#%%\n"
    }
   },
   "outputs": [],
   "source": [
    "import pandas as pd\n",
    "import matplotlib.pyplot as plt\n",
    "import seaborn as sns\n",
    "from sklearn.model_selection import train_test_split\n",
    "from sklearn.metrics import accuracy_score, f1_score\n",
    "from catboost import CatBoostClassifier"
   ]
  },
  {
   "cell_type": "markdown",
   "source": [
    "Импорт датасета."
   ],
   "metadata": {
    "collapsed": false,
    "pycharm": {
     "name": "#%% md\n"
    }
   }
  },
  {
   "cell_type": "code",
   "execution_count": 128,
   "metadata": {
    "collapsed": false,
    "jupyter": {
     "outputs_hidden": false
    },
    "pycharm": {
     "name": "#%%\n"
    }
   },
   "outputs": [],
   "source": [
    "milk_training_data = pd.read_csv('milk_training_data.csv', delimiter=',')"
   ]
  },
  {
   "cell_type": "markdown",
   "metadata": {
    "collapsed": false,
    "jupyter": {
     "outputs_hidden": false
    },
    "pycharm": {
     "name": "#%% md\n"
    }
   },
   "source": [
    "Просмотр заголовков и примера данных на нескольких кортежах."
   ]
  },
  {
   "cell_type": "code",
   "execution_count": 129,
   "metadata": {
    "collapsed": false,
    "jupyter": {
     "outputs_hidden": false
    },
    "pycharm": {
     "name": "#%%\n"
    }
   },
   "outputs": [
    {
     "name": "stdout",
     "output_type": "stream",
     "text": [
      "    pH  Temprature  Taste  Odor  Fat   Turbidity  Colour   Grade\n",
      "0  6.6          35      1     0     1          0     254    high\n",
      "1  6.6          36      0     1     0          1     253    high\n",
      "2  8.5          70      1     1     1          1     246     low\n",
      "3  9.5          34      1     1     0          1     255     low\n",
      "4  6.6          37      0     0     0          0     255  medium\n"
     ]
    }
   ],
   "source": [
    "print(milk_training_data.head())"
   ]
  },
  {
   "cell_type": "markdown",
   "metadata": {
    "collapsed": false,
    "jupyter": {
     "outputs_hidden": false
    },
    "pycharm": {
     "name": "#%% md\n"
    }
   },
   "source": [
    "Исправление ошибок в заголовках столбцов с данными."
   ]
  },
  {
   "cell_type": "code",
   "execution_count": 130,
   "metadata": {
    "collapsed": false,
    "jupyter": {
     "outputs_hidden": false
    },
    "pycharm": {
     "name": "#%%\n"
    }
   },
   "outputs": [],
   "source": [
    "milk_training_data.rename(columns={'Colour':'Color'}, inplace = True)\n",
    "milk_training_data.rename(columns={'Temprature':'Temperature'}, inplace = True)\n",
    "milk_training_data.rename(columns={'Fat ':'Fat'}, inplace = True)"
   ]
  },
  {
   "cell_type": "markdown",
   "source": [
    "Приведение к нижнему регистру."
   ],
   "metadata": {
    "collapsed": false,
    "pycharm": {
     "name": "#%% md\n"
    }
   }
  },
  {
   "cell_type": "code",
   "execution_count": 131,
   "metadata": {
    "collapsed": false,
    "jupyter": {
     "outputs_hidden": false
    },
    "pycharm": {
     "name": "#%%\n"
    }
   },
   "outputs": [],
   "source": [
    "milk_training_data.columns = [col.lower() for col in milk_training_data.columns]"
   ]
  },
  {
   "cell_type": "markdown",
   "metadata": {
    "collapsed": false,
    "jupyter": {
     "outputs_hidden": false
    },
    "pycharm": {
     "name": "#%% md\n"
    }
   },
   "source": [
    "Просмотр информации о датасете:\n",
    "- проверка наличия пустых значений;\n",
    "- определение количество строк и столбцов датасета;\n",
    "- определение типов данных в столбцах."
   ]
  },
  {
   "cell_type": "code",
   "execution_count": 132,
   "metadata": {
    "collapsed": false,
    "jupyter": {
     "outputs_hidden": false
    },
    "pycharm": {
     "name": "#%%\n"
    }
   },
   "outputs": [
    {
     "name": "stdout",
     "output_type": "stream",
     "text": [
      "<class 'pandas.core.frame.DataFrame'>\n",
      "RangeIndex: 1059 entries, 0 to 1058\n",
      "Data columns (total 8 columns):\n",
      " #   Column       Non-Null Count  Dtype  \n",
      "---  ------       --------------  -----  \n",
      " 0   ph           1059 non-null   float64\n",
      " 1   temperature  1059 non-null   int64  \n",
      " 2   taste        1059 non-null   int64  \n",
      " 3   odor         1059 non-null   int64  \n",
      " 4   fat          1059 non-null   int64  \n",
      " 5   turbidity    1059 non-null   int64  \n",
      " 6   color        1059 non-null   int64  \n",
      " 7   grade        1059 non-null   object \n",
      "dtypes: float64(1), int64(6), object(1)\n",
      "memory usage: 66.3+ KB\n",
      "None\n"
     ]
    }
   ],
   "source": [
    "print(milk_training_data.info())"
   ]
  },
  {
   "cell_type": "markdown",
   "metadata": {
    "collapsed": false,
    "jupyter": {
     "outputs_hidden": false
    },
    "pycharm": {
     "name": "#%% md\n"
    }
   },
   "source": [
    "Определение уникальных значений столбцов датасета."
   ]
  },
  {
   "cell_type": "code",
   "execution_count": 133,
   "metadata": {
    "collapsed": false,
    "jupyter": {
     "outputs_hidden": false
    },
    "pycharm": {
     "name": "#%%\n"
    }
   },
   "outputs": [
    {
     "name": "stdout",
     "output_type": "stream",
     "text": [
      "[6.6 8.5 9.5 5.5 4.5 8.1 6.7 5.6 8.6 7.4 6.8 6.5 4.7 3.  9.  6.4] \n",
      "\n",
      "[35 36 70 34 37 45 60 66 50 55 90 38 40 43 42 41 65] \n",
      "\n",
      "[1 0] \n",
      "\n",
      "[0 1] \n",
      "\n",
      "[1 0] \n",
      "\n",
      "[0 1] \n",
      "\n",
      "[254 253 246 255 250 247 245 240 248] \n",
      "\n",
      "['high' 'low' 'medium'] \n",
      "\n"
     ]
    }
   ],
   "source": [
    "for col in milk_training_data:\n",
    " print(milk_training_data[col].unique (), \"\\n\")"
   ]
  },
  {
   "cell_type": "markdown",
   "metadata": {
    "collapsed": false,
    "jupyter": {
     "outputs_hidden": false
    },
    "pycharm": {
     "name": "#%% md\n"
    }
   },
   "source": [
    "Просмотр метрик датасета."
   ]
  },
  {
   "cell_type": "code",
   "execution_count": 134,
   "metadata": {
    "collapsed": false,
    "jupyter": {
     "outputs_hidden": false
    },
    "pycharm": {
     "name": "#%%\n"
    }
   },
   "outputs": [
    {
     "data": {
      "text/plain": "              count        mean        std    min    10%    25%    50%    75%  \\\nph           1059.0    6.630123   1.399679    3.0    4.5    6.5    6.7    6.8   \ntemperature  1059.0   44.226629  10.098364   34.0   36.0   38.0   41.0   45.0   \ntaste        1059.0    0.546742   0.498046    0.0    0.0    0.0    1.0    1.0   \nodor         1059.0    0.432483   0.495655    0.0    0.0    0.0    0.0    1.0   \nfat          1059.0    0.671388   0.469930    0.0    0.0    0.0    1.0    1.0   \nturbidity    1059.0    0.491029   0.500156    0.0    0.0    0.0    0.0    1.0   \ncolor        1059.0  251.840415   4.307424  240.0  245.0  250.0  255.0  255.0   \n\n               90%    max  \nph             8.6    9.5  \ntemperature   55.0   90.0  \ntaste          1.0    1.0  \nodor           1.0    1.0  \nfat            1.0    1.0  \nturbidity      1.0    1.0  \ncolor        255.0  255.0  ",
      "text/html": "<div>\n<style scoped>\n    .dataframe tbody tr th:only-of-type {\n        vertical-align: middle;\n    }\n\n    .dataframe tbody tr th {\n        vertical-align: top;\n    }\n\n    .dataframe thead th {\n        text-align: right;\n    }\n</style>\n<table border=\"1\" class=\"dataframe\">\n  <thead>\n    <tr style=\"text-align: right;\">\n      <th></th>\n      <th>count</th>\n      <th>mean</th>\n      <th>std</th>\n      <th>min</th>\n      <th>10%</th>\n      <th>25%</th>\n      <th>50%</th>\n      <th>75%</th>\n      <th>90%</th>\n      <th>max</th>\n    </tr>\n  </thead>\n  <tbody>\n    <tr>\n      <th>ph</th>\n      <td>1059.0</td>\n      <td>6.630123</td>\n      <td>1.399679</td>\n      <td>3.0</td>\n      <td>4.5</td>\n      <td>6.5</td>\n      <td>6.7</td>\n      <td>6.8</td>\n      <td>8.6</td>\n      <td>9.5</td>\n    </tr>\n    <tr>\n      <th>temperature</th>\n      <td>1059.0</td>\n      <td>44.226629</td>\n      <td>10.098364</td>\n      <td>34.0</td>\n      <td>36.0</td>\n      <td>38.0</td>\n      <td>41.0</td>\n      <td>45.0</td>\n      <td>55.0</td>\n      <td>90.0</td>\n    </tr>\n    <tr>\n      <th>taste</th>\n      <td>1059.0</td>\n      <td>0.546742</td>\n      <td>0.498046</td>\n      <td>0.0</td>\n      <td>0.0</td>\n      <td>0.0</td>\n      <td>1.0</td>\n      <td>1.0</td>\n      <td>1.0</td>\n      <td>1.0</td>\n    </tr>\n    <tr>\n      <th>odor</th>\n      <td>1059.0</td>\n      <td>0.432483</td>\n      <td>0.495655</td>\n      <td>0.0</td>\n      <td>0.0</td>\n      <td>0.0</td>\n      <td>0.0</td>\n      <td>1.0</td>\n      <td>1.0</td>\n      <td>1.0</td>\n    </tr>\n    <tr>\n      <th>fat</th>\n      <td>1059.0</td>\n      <td>0.671388</td>\n      <td>0.469930</td>\n      <td>0.0</td>\n      <td>0.0</td>\n      <td>0.0</td>\n      <td>1.0</td>\n      <td>1.0</td>\n      <td>1.0</td>\n      <td>1.0</td>\n    </tr>\n    <tr>\n      <th>turbidity</th>\n      <td>1059.0</td>\n      <td>0.491029</td>\n      <td>0.500156</td>\n      <td>0.0</td>\n      <td>0.0</td>\n      <td>0.0</td>\n      <td>0.0</td>\n      <td>1.0</td>\n      <td>1.0</td>\n      <td>1.0</td>\n    </tr>\n    <tr>\n      <th>color</th>\n      <td>1059.0</td>\n      <td>251.840415</td>\n      <td>4.307424</td>\n      <td>240.0</td>\n      <td>245.0</td>\n      <td>250.0</td>\n      <td>255.0</td>\n      <td>255.0</td>\n      <td>255.0</td>\n      <td>255.0</td>\n    </tr>\n  </tbody>\n</table>\n</div>"
     },
     "execution_count": 134,
     "metadata": {},
     "output_type": "execute_result"
    }
   ],
   "source": [
    "milk_training_data.describe(percentiles=[0.1, 0.25,0.5, 0.75, 0.9]).T"
   ]
  },
  {
   "cell_type": "markdown",
   "metadata": {
    "collapsed": false,
    "jupyter": {
     "outputs_hidden": false
    },
    "pycharm": {
     "name": "#%% md\n"
    }
   },
   "source": [
    "Распредение данных в зависмости от значений качества молока."
   ]
  },
  {
   "cell_type": "code",
   "execution_count": 135,
   "metadata": {
    "collapsed": false,
    "jupyter": {
     "outputs_hidden": false
    },
    "pycharm": {
     "name": "#%%\n"
    }
   },
   "outputs": [
    {
     "data": {
      "text/plain": "grade\nhigh      256\nlow       429\nmedium    374\ndtype: int64"
     },
     "execution_count": 135,
     "metadata": {},
     "output_type": "execute_result"
    }
   ],
   "source": [
    "milk_training_data.groupby('grade').size()"
   ]
  },
  {
   "cell_type": "markdown",
   "metadata": {
    "collapsed": false,
    "jupyter": {
     "outputs_hidden": false
    },
    "pycharm": {
     "name": "#%% md\n"
    }
   },
   "source": [
    "Распределение значений кислотности."
   ]
  },
  {
   "cell_type": "code",
   "execution_count": 136,
   "metadata": {
    "collapsed": false,
    "jupyter": {
     "outputs_hidden": false
    },
    "pycharm": {
     "name": "#%%\n"
    }
   },
   "outputs": [
    {
     "data": {
      "text/plain": "ph\n3.0     70\n4.5     37\n4.7     20\n5.5     23\n5.6     19\n6.4      1\n6.5    189\n6.6    159\n6.7     82\n6.8    249\n7.4     39\n8.1     24\n8.5     22\n8.6     40\n9.0     61\n9.5     24\ndtype: int64"
     },
     "execution_count": 136,
     "metadata": {},
     "output_type": "execute_result"
    }
   ],
   "source": [
    "milk_training_data.groupby('ph').size()"
   ]
  },
  {
   "cell_type": "code",
   "execution_count": 137,
   "metadata": {
    "collapsed": false,
    "jupyter": {
     "outputs_hidden": false
    },
    "pycharm": {
     "name": "#%%\n"
    }
   },
   "outputs": [
    {
     "data": {
      "text/plain": "<Axes: xlabel='ph', ylabel='count'>"
     },
     "execution_count": 137,
     "metadata": {},
     "output_type": "execute_result"
    },
    {
     "data": {
      "text/plain": "<Figure size 640x480 with 1 Axes>",
      "image/png": "[encoded data removed]"
     },
     "metadata": {},
     "output_type": "display_data"
    }
   ],
   "source": [
    "sns.countplot(x=milk_training_data['ph'],hue=milk_training_data['grade'], palette = \"tab10\")"
   ]
  },
  {
   "cell_type": "markdown",
   "metadata": {
    "collapsed": false,
    "jupyter": {
     "outputs_hidden": false
    },
    "pycharm": {
     "name": "#%% md\n"
    }
   },
   "source": [
    "Распределение значений температуры."
   ]
  },
  {
   "cell_type": "code",
   "execution_count": 138,
   "metadata": {
    "collapsed": false,
    "jupyter": {
     "outputs_hidden": false
    },
    "pycharm": {
     "name": "#%%\n"
    }
   },
   "outputs": [
    {
     "data": {
      "text/plain": "<Axes: xlabel='temperature', ylabel='count'>"
     },
     "execution_count": 138,
     "metadata": {},
     "output_type": "execute_result"
    },
    {
     "data": {
      "text/plain": "<Figure size 640x480 with 1 Axes>",
      "image/png": "[encoded data removed]"
     },
     "metadata": {},
     "output_type": "display_data"
    }
   ],
   "source": [
    "sns.countplot(x=milk_training_data['temperature'],hue=milk_training_data['grade'], palette = \"tab10\")"
   ]
  },
  {
   "cell_type": "markdown",
   "metadata": {
    "collapsed": false,
    "jupyter": {
     "outputs_hidden": false
    },
    "pycharm": {
     "name": "#%% md\n"
    }
   },
   "source": [
    "Распределение значений цвета."
   ]
  },
  {
   "cell_type": "code",
   "execution_count": 139,
   "metadata": {
    "collapsed": false,
    "jupyter": {
     "outputs_hidden": false
    },
    "pycharm": {
     "name": "#%%\n"
    }
   },
   "outputs": [
    {
     "data": {
      "text/plain": "<Axes: xlabel='color', ylabel='count'>"
     },
     "execution_count": 139,
     "metadata": {},
     "output_type": "execute_result"
    },
    {
     "data": {
      "text/plain": "<Figure size 640x480 with 1 Axes>",
      "image/png": "[encoded data removed]"
     },
     "metadata": {},
     "output_type": "display_data"
    }
   ],
   "source": [
    "sns.countplot(x=milk_training_data['color'], hue=milk_training_data['grade'], palette=\"tab10\")"
   ]
  },
  {
   "cell_type": "markdown",
   "metadata": {
    "collapsed": false,
    "jupyter": {
     "outputs_hidden": false
    },
    "pycharm": {
     "name": "#%% md\n"
    }
   },
   "source": [
    "Приведение категориального признака к числовову виду для определения корреляции между данными."
   ]
  },
  {
   "cell_type": "code",
   "execution_count": 140,
   "metadata": {
    "collapsed": false,
    "jupyter": {
     "outputs_hidden": false
    },
    "pycharm": {
     "name": "#%%\n"
    }
   },
   "outputs": [
    {
     "data": {
      "text/plain": "    ph  temperature  taste  odor  fat  turbidity  color  grade\n0  6.6           35      1     0    1          0    254      2\n1  6.6           36      0     1    0          1    253      2\n2  8.5           70      1     1    1          1    246      0\n3  9.5           34      1     1    0          1    255      0\n4  6.6           37      0     0    0          0    255      1",
      "text/html": "<div>\n<style scoped>\n    .dataframe tbody tr th:only-of-type {\n        vertical-align: middle;\n    }\n\n    .dataframe tbody tr th {\n        vertical-align: top;\n    }\n\n    .dataframe thead th {\n        text-align: right;\n    }\n</style>\n<table border=\"1\" class=\"dataframe\">\n  <thead>\n    <tr style=\"text-align: right;\">\n      <th></th>\n      <th>ph</th>\n      <th>temperature</th>\n      <th>taste</th>\n      <th>odor</th>\n      <th>fat</th>\n      <th>turbidity</th>\n      <th>color</th>\n      <th>grade</th>\n    </tr>\n  </thead>\n  <tbody>\n    <tr>\n      <th>0</th>\n      <td>6.6</td>\n      <td>35</td>\n      <td>1</td>\n      <td>0</td>\n      <td>1</td>\n      <td>0</td>\n      <td>254</td>\n      <td>2</td>\n    </tr>\n    <tr>\n      <th>1</th>\n      <td>6.6</td>\n      <td>36</td>\n      <td>0</td>\n      <td>1</td>\n      <td>0</td>\n      <td>1</td>\n      <td>253</td>\n      <td>2</td>\n    </tr>\n    <tr>\n      <th>2</th>\n      <td>8.5</td>\n      <td>70</td>\n      <td>1</td>\n      <td>1</td>\n      <td>1</td>\n      <td>1</td>\n      <td>246</td>\n      <td>0</td>\n    </tr>\n    <tr>\n      <th>3</th>\n      <td>9.5</td>\n      <td>34</td>\n      <td>1</td>\n      <td>1</td>\n      <td>0</td>\n      <td>1</td>\n      <td>255</td>\n      <td>0</td>\n    </tr>\n    <tr>\n      <th>4</th>\n      <td>6.6</td>\n      <td>37</td>\n      <td>0</td>\n      <td>0</td>\n      <td>0</td>\n      <td>0</td>\n      <td>255</td>\n      <td>1</td>\n    </tr>\n  </tbody>\n</table>\n</div>"
     },
     "execution_count": 140,
     "metadata": {},
     "output_type": "execute_result"
    }
   ],
   "source": [
    "milk_training_data['grade']=milk_training_data['grade'].map({'low':0,'medium':1,'high':2})\n",
    "milk_training_data.head()"
   ]
  },
  {
   "cell_type": "markdown",
   "metadata": {
    "collapsed": false,
    "jupyter": {
     "outputs_hidden": false
    },
    "pycharm": {
     "name": "#%% md\n"
    }
   },
   "source": [
    "Определение корреляции между данными. Прямые зависимости между параметрами отсутствуют."
   ]
  },
  {
   "cell_type": "code",
   "execution_count": 141,
   "metadata": {
    "collapsed": false,
    "jupyter": {
     "outputs_hidden": false
    },
    "pycharm": {
     "name": "#%%\n"
    }
   },
   "outputs": [
    {
     "data": {
      "text/plain": "<Figure size 800x600 with 2 Axes>",
      "image/png": "[encoded data removed]"
     },
     "metadata": {},
     "output_type": "display_data"
    }
   ],
   "source": [
    "plt.figure(figsize=(8, 6))\n",
    "sns.heatmap(milk_training_data.corr(), annot=True, cmap='coolwarm', fmt='.2f', linewidths=0.5)\n",
    "plt.title(\"Correlation Heatmap\")\n",
    "plt.show()"
   ]
  },
  {
   "cell_type": "markdown",
   "metadata": {
    "collapsed": false,
    "jupyter": {
     "outputs_hidden": false
    },
    "pycharm": {
     "name": "#%% md\n"
    }
   },
   "source": [
    "Кислотность – один из основных показателей качества молока, определяемых при приемке. В соответствии с требованиями ТР ТС 033/2013 «О безопасности молока и молочной продукции» кислотность принимаемого на переработку молока должна быть в пределах от 16 до 21°Т."
   ]
  },
  {
   "attachments": {},
   "cell_type": "markdown",
   "metadata": {
    "collapsed": false,
    "jupyter": {
     "outputs_hidden": false
    },
    "pycharm": {
     "name": "#%% md\n"
    }
   },
   "source": [
    "Активная (pH) И титруемая (°Т) кислотность\n",
    "Активная кислотность характеризует количество ионов водорода и выражается в pH. Однако, согласно требованиям ГОСТ, для молока необходимо определять титруемую кислотность, которая выражается в градусах Тернера. Ее определяют путем титрования 100 мл молока раствором щелочи в присутствии индикатора фенолфталеина. Ниже приведено соотношение средних значениний активной клислотности (pH) к значениям титруемой кислотности в °Т.\n",
    "\n",
    "Среднее значение активной кислотности (pH)\tТитруемая кислотность (⁰Т)\n",
    "             6,73\t                                    16\n",
    "             6,69\t                                    17\n",
    "             6,64\t                                    18\n",
    "             6,58\t                                    19\n",
    "             6,52\t                                    20\n",
    "             6,46\t                                    21\n",
    "             6,41\t                                    22\n",
    "             6,36\t                                    23\n",
    "             6,31\t                                    24\n",
    "\n",
    "Так как принято отбраковывать партии молокая по титруемой кислотности, то добавлен столбец данных со значениями титруемой кислотности. Также это решает задачу необходимости типа данных interger для машинного обучения с помощью библиотеки \"Catboost\".\n",
    "Ниже приведены критерии обраковки молока по титруемой кислотности.\n",
    "\n",
    "Высший сорт\t    Первый сорт\t    Второй сорт\n",
    "16-17 (⁰Т)\t      ≤19 (⁰Т)\t      ≤20 (⁰Т)"
   ]
  },
  {
   "cell_type": "code",
   "execution_count": 142,
   "metadata": {
    "collapsed": false,
    "jupyter": {
     "outputs_hidden": false
    },
    "pycharm": {
     "name": "#%%\n"
    }
   },
   "outputs": [
    {
     "data": {
      "text/plain": "(16, 17, 19, 20, 21)"
     },
     "execution_count": 142,
     "metadata": {},
     "output_type": "execute_result"
    }
   ],
   "source": [
    "t_list = []\n",
    "t=(16,17,19,20,21)\n",
    "t"
   ]
  },
  {
   "cell_type": "code",
   "execution_count": 143,
   "metadata": {
    "collapsed": false,
    "jupyter": {
     "outputs_hidden": false
    },
    "pycharm": {
     "name": "#%%\n"
    }
   },
   "outputs": [],
   "source": [
    "ph = milk_training_data['ph'].to_numpy()"
   ]
  },
  {
   "cell_type": "code",
   "execution_count": 144,
   "metadata": {
    "collapsed": false,
    "jupyter": {
     "outputs_hidden": false
    },
    "pycharm": {
     "name": "#%%\n"
    }
   },
   "outputs": [],
   "source": [
    "for i in range(len(ph)):\n",
    "    if ph[i] < 6.5 or ph[i] > 6.8: t_list.insert(i, t[4])\n",
    "    if ph[i] == 6.5: t_list.insert(i, t[3])\n",
    "    if ph[i] == 6.6: t_list.insert(i, t[2])\n",
    "    if ph[i] == 6.7: t_list.insert(i, t[1])\n",
    "    if ph[i] == 6.8: t_list.insert(i, t[0])"
   ]
  },
  {
   "cell_type": "code",
   "execution_count": 145,
   "metadata": {
    "collapsed": false,
    "jupyter": {
     "outputs_hidden": false
    },
    "pycharm": {
     "name": "#%%\n"
    }
   },
   "outputs": [],
   "source": [
    "milk_training_data['t'] = t_list"
   ]
  },
  {
   "cell_type": "markdown",
   "source": [
    "Проверка наличия добавленного столбца со значениями титруемой кислотности."
   ],
   "metadata": {
    "collapsed": false,
    "pycharm": {
     "name": "#%% md\n"
    }
   }
  },
  {
   "cell_type": "code",
   "execution_count": 146,
   "metadata": {
    "collapsed": false,
    "jupyter": {
     "outputs_hidden": false
    },
    "pycharm": {
     "name": "#%%\n"
    }
   },
   "outputs": [
    {
     "name": "stdout",
     "output_type": "stream",
     "text": [
      "<class 'pandas.core.frame.DataFrame'>\n",
      "RangeIndex: 1059 entries, 0 to 1058\n",
      "Data columns (total 9 columns):\n",
      " #   Column       Non-Null Count  Dtype  \n",
      "---  ------       --------------  -----  \n",
      " 0   ph           1059 non-null   float64\n",
      " 1   temperature  1059 non-null   int64  \n",
      " 2   taste        1059 non-null   int64  \n",
      " 3   odor         1059 non-null   int64  \n",
      " 4   fat          1059 non-null   int64  \n",
      " 5   turbidity    1059 non-null   int64  \n",
      " 6   color        1059 non-null   int64  \n",
      " 7   grade        1059 non-null   int64  \n",
      " 8   t            1059 non-null   int64  \n",
      "dtypes: float64(1), int64(8)\n",
      "memory usage: 74.6 KB\n"
     ]
    }
   ],
   "source": [
    "milk_training_data.info()"
   ]
  },
  {
   "cell_type": "markdown",
   "source": [
    "Повторная проверка наличия прямой зависимости между данными."
   ],
   "metadata": {
    "collapsed": false,
    "pycharm": {
     "name": "#%% md\n"
    }
   }
  },
  {
   "cell_type": "code",
   "execution_count": 147,
   "metadata": {
    "collapsed": false,
    "jupyter": {
     "outputs_hidden": false
    },
    "pycharm": {
     "name": "#%%\n"
    }
   },
   "outputs": [
    {
     "data": {
      "text/plain": "<Figure size 800x600 with 2 Axes>",
      "image/png": "[encoded data removed]"
     },
     "metadata": {},
     "output_type": "display_data"
    }
   ],
   "source": [
    "plt.figure(figsize=(8, 6))\n",
    "sns.heatmap(milk_training_data.corr(), annot=True, cmap='coolwarm', fmt='.2f', linewidths=0.5)\n",
    "plt.title(\"Correlation Heatmap\")\n",
    "plt.show()"
   ]
  },
  {
   "cell_type": "markdown",
   "source": [
    "Деление датасета на тестувую и учебную выборки. Удаление неиспользуемых признаков."
   ],
   "metadata": {
    "collapsed": false,
    "pycharm": {
     "name": "#%% md\n"
    }
   }
  },
  {
   "cell_type": "code",
   "execution_count": 159,
   "metadata": {
    "collapsed": false,
    "jupyter": {
     "outputs_hidden": false
    },
    "pycharm": {
     "name": "#%%\n"
    }
   },
   "outputs": [],
   "source": [
    "X = milk_training_data.drop(['grade', 'taste','odor', 'fat', 'turbidity'], axis=1)\n",
    "y = milk_training_data['grade']\n",
    "X_train, X_test, y_train, y_test = train_test_split(X, y, test_size=0.40, random_state=1234)"
   ]
  },
  {
   "cell_type": "markdown",
   "source": [],
   "metadata": {
    "collapsed": false,
    "pycharm": {
     "name": "#%% md\n"
    }
   }
  },
  {
   "cell_type": "markdown",
   "source": [
    "В качестве категориальных признаков выбраны:\n",
    "- температура (temperature);\n",
    "- цвет (color);\n",
    "- титруемая кислотность (t)."
   ],
   "metadata": {
    "collapsed": false,
    "pycharm": {
     "name": "#%% md\n"
    }
   }
  },
  {
   "cell_type": "code",
   "execution_count": 160,
   "metadata": {
    "collapsed": false,
    "jupyter": {
     "outputs_hidden": false
    },
    "pycharm": {
     "name": "#%%\n"
    }
   },
   "outputs": [],
   "source": [
    "cat_features = ['temperature', 'color', 't']"
   ]
  },
  {
   "cell_type": "markdown",
   "source": [
    "Преобразование типа данных категориальных признаков."
   ],
   "metadata": {
    "collapsed": false,
    "pycharm": {
     "name": "#%% md\n"
    }
   }
  },
  {
   "cell_type": "code",
   "execution_count": 161,
   "metadata": {
    "collapsed": false,
    "jupyter": {
     "outputs_hidden": false
    },
    "pycharm": {
     "name": "#%%\n"
    }
   },
   "outputs": [],
   "source": [
    "for feature in cat_features:\n",
    "    milk_training_data[feature] = milk_training_data[feature].astype('category')"
   ]
  },
  {
   "cell_type": "markdown",
   "source": [
    "Обучение модели CatBoostClassifier"
   ],
   "metadata": {
    "collapsed": false,
    "pycharm": {
     "name": "#%% md\n"
    }
   }
  },
  {
   "cell_type": "code",
   "execution_count": 162,
   "metadata": {
    "collapsed": false,
    "jupyter": {
     "outputs_hidden": false
    },
    "pycharm": {
     "name": "#%%\n"
    }
   },
   "outputs": [
    {
     "name": "stdout",
     "output_type": "stream",
     "text": [
      "0:\tlearn: 1.0081202\ttotal: 10.1ms\tremaining: 3.02s\n",
      "1:\tlearn: 0.9393685\ttotal: 38.8ms\tremaining: 5.77s\n",
      "2:\tlearn: 0.8745148\ttotal: 63.2ms\tremaining: 6.25s\n",
      "3:\tlearn: 0.8183599\ttotal: 89.5ms\tremaining: 6.63s\n",
      "4:\tlearn: 0.7715693\ttotal: 114ms\tremaining: 6.75s\n",
      "5:\tlearn: 0.7342719\ttotal: 136ms\tremaining: 6.67s\n",
      "6:\tlearn: 0.7010950\ttotal: 153ms\tremaining: 6.38s\n",
      "7:\tlearn: 0.6662090\ttotal: 179ms\tremaining: 6.55s\n",
      "8:\tlearn: 0.6356388\ttotal: 207ms\tremaining: 6.69s\n",
      "9:\tlearn: 0.6096110\ttotal: 229ms\tremaining: 6.64s\n",
      "10:\tlearn: 0.5866336\ttotal: 250ms\tremaining: 6.57s\n",
      "11:\tlearn: 0.5648743\ttotal: 284ms\tremaining: 6.81s\n",
      "12:\tlearn: 0.5435347\ttotal: 303ms\tremaining: 6.69s\n",
      "13:\tlearn: 0.5194566\ttotal: 322ms\tremaining: 6.58s\n",
      "14:\tlearn: 0.5014615\ttotal: 340ms\tremaining: 6.47s\n",
      "15:\tlearn: 0.4838919\ttotal: 362ms\tremaining: 6.42s\n",
      "16:\tlearn: 0.4713437\ttotal: 380ms\tremaining: 6.33s\n",
      "17:\tlearn: 0.4596413\ttotal: 398ms\tremaining: 6.23s\n",
      "18:\tlearn: 0.4483394\ttotal: 431ms\tremaining: 6.37s\n",
      "19:\tlearn: 0.4356761\ttotal: 449ms\tremaining: 6.28s\n",
      "20:\tlearn: 0.4219685\ttotal: 468ms\tremaining: 6.21s\n",
      "21:\tlearn: 0.4130158\ttotal: 487ms\tremaining: 6.16s\n",
      "22:\tlearn: 0.4016244\ttotal: 505ms\tremaining: 6.08s\n",
      "23:\tlearn: 0.3925486\ttotal: 523ms\tremaining: 6.01s\n",
      "24:\tlearn: 0.3834457\ttotal: 541ms\tremaining: 5.95s\n",
      "25:\tlearn: 0.3759919\ttotal: 559ms\tremaining: 5.88s\n",
      "26:\tlearn: 0.3635116\ttotal: 576ms\tremaining: 5.82s\n",
      "27:\tlearn: 0.3529711\ttotal: 594ms\tremaining: 5.77s\n",
      "28:\tlearn: 0.3441607\ttotal: 612ms\tremaining: 5.72s\n",
      "29:\tlearn: 0.3375115\ttotal: 633ms\tremaining: 5.69s\n",
      "30:\tlearn: 0.3318601\ttotal: 652ms\tremaining: 5.66s\n",
      "31:\tlearn: 0.3252465\ttotal: 671ms\tremaining: 5.62s\n",
      "32:\tlearn: 0.3196581\ttotal: 690ms\tremaining: 5.58s\n",
      "33:\tlearn: 0.3163214\ttotal: 709ms\tremaining: 5.54s\n",
      "34:\tlearn: 0.3135260\ttotal: 727ms\tremaining: 5.5s\n",
      "35:\tlearn: 0.3079191\ttotal: 746ms\tremaining: 5.47s\n",
      "36:\tlearn: 0.3044529\ttotal: 764ms\tremaining: 5.43s\n",
      "37:\tlearn: 0.2996259\ttotal: 782ms\tremaining: 5.39s\n",
      "38:\tlearn: 0.2945328\ttotal: 800ms\tremaining: 5.36s\n",
      "39:\tlearn: 0.2913762\ttotal: 818ms\tremaining: 5.32s\n",
      "40:\tlearn: 0.2880522\ttotal: 836ms\tremaining: 5.28s\n",
      "41:\tlearn: 0.2838438\ttotal: 853ms\tremaining: 5.24s\n",
      "42:\tlearn: 0.2804458\ttotal: 872ms\tremaining: 5.21s\n",
      "43:\tlearn: 0.2767078\ttotal: 889ms\tremaining: 5.17s\n",
      "44:\tlearn: 0.2754509\ttotal: 907ms\tremaining: 5.14s\n",
      "45:\tlearn: 0.2728741\ttotal: 924ms\tremaining: 5.1s\n",
      "46:\tlearn: 0.2707809\ttotal: 942ms\tremaining: 5.07s\n",
      "47:\tlearn: 0.2676754\ttotal: 990ms\tremaining: 5.2s\n",
      "48:\tlearn: 0.2649250\ttotal: 1.01s\tremaining: 5.17s\n",
      "49:\tlearn: 0.2625993\ttotal: 1.03s\tremaining: 5.13s\n",
      "50:\tlearn: 0.2613271\ttotal: 1.04s\tremaining: 5.1s\n",
      "51:\tlearn: 0.2602284\ttotal: 1.06s\tremaining: 5.06s\n",
      "52:\tlearn: 0.2570484\ttotal: 1.08s\tremaining: 5.03s\n",
      "53:\tlearn: 0.2542139\ttotal: 1.1s\tremaining: 4.99s\n",
      "54:\tlearn: 0.2519688\ttotal: 1.11s\tremaining: 4.96s\n",
      "55:\tlearn: 0.2493055\ttotal: 1.13s\tremaining: 4.93s\n",
      "56:\tlearn: 0.2481195\ttotal: 1.15s\tremaining: 4.9s\n",
      "57:\tlearn: 0.2455325\ttotal: 1.17s\tremaining: 4.87s\n",
      "58:\tlearn: 0.2444429\ttotal: 1.18s\tremaining: 4.83s\n",
      "59:\tlearn: 0.2427999\ttotal: 1.2s\tremaining: 4.8s\n",
      "60:\tlearn: 0.2416881\ttotal: 1.22s\tremaining: 4.77s\n",
      "61:\tlearn: 0.2407475\ttotal: 1.24s\tremaining: 4.75s\n",
      "62:\tlearn: 0.2402186\ttotal: 1.26s\tremaining: 4.74s\n",
      "63:\tlearn: 0.2389326\ttotal: 1.3s\tremaining: 4.78s\n",
      "64:\tlearn: 0.2376174\ttotal: 1.31s\tremaining: 4.75s\n",
      "65:\tlearn: 0.2352496\ttotal: 1.33s\tremaining: 4.73s\n",
      "66:\tlearn: 0.2332194\ttotal: 1.35s\tremaining: 4.7s\n",
      "67:\tlearn: 0.2319777\ttotal: 1.37s\tremaining: 4.68s\n",
      "68:\tlearn: 0.2309624\ttotal: 1.39s\tremaining: 4.65s\n",
      "69:\tlearn: 0.2294550\ttotal: 1.41s\tremaining: 4.62s\n",
      "70:\tlearn: 0.2286575\ttotal: 1.42s\tremaining: 4.59s\n",
      "71:\tlearn: 0.2277909\ttotal: 1.44s\tremaining: 4.56s\n",
      "72:\tlearn: 0.2267171\ttotal: 1.46s\tremaining: 4.54s\n",
      "73:\tlearn: 0.2249718\ttotal: 1.48s\tremaining: 4.51s\n",
      "74:\tlearn: 0.2237870\ttotal: 1.5s\tremaining: 4.49s\n",
      "75:\tlearn: 0.2224810\ttotal: 1.51s\tremaining: 4.46s\n",
      "76:\tlearn: 0.2218171\ttotal: 1.53s\tremaining: 4.43s\n",
      "77:\tlearn: 0.2211967\ttotal: 1.55s\tremaining: 4.41s\n",
      "78:\tlearn: 0.2204215\ttotal: 1.57s\tremaining: 4.38s\n",
      "79:\tlearn: 0.2200996\ttotal: 1.58s\tremaining: 4.36s\n",
      "80:\tlearn: 0.2193420\ttotal: 1.6s\tremaining: 4.33s\n",
      "81:\tlearn: 0.2186021\ttotal: 1.62s\tremaining: 4.3s\n",
      "82:\tlearn: 0.2174671\ttotal: 1.64s\tremaining: 4.28s\n",
      "83:\tlearn: 0.2169834\ttotal: 1.65s\tremaining: 4.25s\n",
      "84:\tlearn: 0.2161653\ttotal: 1.67s\tremaining: 4.23s\n",
      "85:\tlearn: 0.2154884\ttotal: 1.69s\tremaining: 4.21s\n",
      "86:\tlearn: 0.2151272\ttotal: 1.71s\tremaining: 4.18s\n",
      "87:\tlearn: 0.2136939\ttotal: 1.73s\tremaining: 4.16s\n",
      "88:\tlearn: 0.2129967\ttotal: 1.75s\tremaining: 4.14s\n",
      "89:\tlearn: 0.2118240\ttotal: 1.76s\tremaining: 4.12s\n",
      "90:\tlearn: 0.2114097\ttotal: 1.78s\tremaining: 4.09s\n",
      "91:\tlearn: 0.2107556\ttotal: 1.8s\tremaining: 4.07s\n",
      "92:\tlearn: 0.2097619\ttotal: 1.82s\tremaining: 4.04s\n",
      "93:\tlearn: 0.2085629\ttotal: 1.83s\tremaining: 4.02s\n",
      "94:\tlearn: 0.2079531\ttotal: 1.85s\tremaining: 3.99s\n",
      "95:\tlearn: 0.2075629\ttotal: 1.87s\tremaining: 3.97s\n",
      "96:\tlearn: 0.2068296\ttotal: 1.89s\tremaining: 3.95s\n",
      "97:\tlearn: 0.2061562\ttotal: 1.9s\tremaining: 3.92s\n",
      "98:\tlearn: 0.2059163\ttotal: 1.92s\tremaining: 3.9s\n",
      "99:\tlearn: 0.2055739\ttotal: 1.94s\tremaining: 3.87s\n",
      "100:\tlearn: 0.2050654\ttotal: 1.96s\tremaining: 3.85s\n",
      "101:\tlearn: 0.2042704\ttotal: 1.97s\tremaining: 3.83s\n",
      "102:\tlearn: 0.2032118\ttotal: 1.99s\tremaining: 3.81s\n",
      "103:\tlearn: 0.2027962\ttotal: 2.01s\tremaining: 3.79s\n",
      "104:\tlearn: 0.2023506\ttotal: 2.03s\tremaining: 3.78s\n",
      "105:\tlearn: 0.2018260\ttotal: 2.05s\tremaining: 3.75s\n",
      "106:\tlearn: 0.2011330\ttotal: 2.07s\tremaining: 3.73s\n",
      "107:\tlearn: 0.2004517\ttotal: 2.09s\tremaining: 3.71s\n",
      "108:\tlearn: 0.2000986\ttotal: 2.1s\tremaining: 3.69s\n",
      "109:\tlearn: 0.1998196\ttotal: 2.12s\tremaining: 3.66s\n",
      "110:\tlearn: 0.1993517\ttotal: 2.14s\tremaining: 3.64s\n",
      "111:\tlearn: 0.1984142\ttotal: 2.16s\tremaining: 3.62s\n",
      "112:\tlearn: 0.1977345\ttotal: 2.17s\tremaining: 3.6s\n",
      "113:\tlearn: 0.1968441\ttotal: 2.19s\tremaining: 3.58s\n",
      "114:\tlearn: 0.1965147\ttotal: 2.22s\tremaining: 3.57s\n",
      "115:\tlearn: 0.1952383\ttotal: 2.24s\tremaining: 3.55s\n",
      "116:\tlearn: 0.1949600\ttotal: 2.25s\tremaining: 3.53s\n",
      "117:\tlearn: 0.1947807\ttotal: 2.27s\tremaining: 3.5s\n",
      "118:\tlearn: 0.1944272\ttotal: 2.29s\tremaining: 3.48s\n",
      "119:\tlearn: 0.1941141\ttotal: 2.31s\tremaining: 3.46s\n",
      "120:\tlearn: 0.1937204\ttotal: 2.32s\tremaining: 3.44s\n",
      "121:\tlearn: 0.1935071\ttotal: 2.34s\tremaining: 3.42s\n",
      "122:\tlearn: 0.1930900\ttotal: 2.36s\tremaining: 3.39s\n",
      "123:\tlearn: 0.1924050\ttotal: 2.38s\tremaining: 3.37s\n",
      "124:\tlearn: 0.1922141\ttotal: 2.4s\tremaining: 3.35s\n",
      "125:\tlearn: 0.1916490\ttotal: 2.41s\tremaining: 3.33s\n",
      "126:\tlearn: 0.1913968\ttotal: 2.43s\tremaining: 3.31s\n",
      "127:\tlearn: 0.1909642\ttotal: 2.45s\tremaining: 3.29s\n",
      "128:\tlearn: 0.1904737\ttotal: 2.46s\tremaining: 3.27s\n",
      "129:\tlearn: 0.1897336\ttotal: 2.48s\tremaining: 3.25s\n",
      "130:\tlearn: 0.1892701\ttotal: 2.5s\tremaining: 3.22s\n",
      "131:\tlearn: 0.1889763\ttotal: 2.52s\tremaining: 3.2s\n",
      "132:\tlearn: 0.1887917\ttotal: 2.54s\tremaining: 3.18s\n",
      "133:\tlearn: 0.1885052\ttotal: 2.55s\tremaining: 3.16s\n",
      "134:\tlearn: 0.1878629\ttotal: 2.57s\tremaining: 3.14s\n",
      "135:\tlearn: 0.1871819\ttotal: 2.59s\tremaining: 3.12s\n",
      "136:\tlearn: 0.1864464\ttotal: 2.6s\tremaining: 3.1s\n",
      "137:\tlearn: 0.1859330\ttotal: 2.62s\tremaining: 3.08s\n",
      "138:\tlearn: 0.1852941\ttotal: 2.64s\tremaining: 3.06s\n",
      "139:\tlearn: 0.1848105\ttotal: 2.66s\tremaining: 3.04s\n",
      "140:\tlearn: 0.1844519\ttotal: 2.67s\tremaining: 3.02s\n",
      "141:\tlearn: 0.1841873\ttotal: 2.69s\tremaining: 2.99s\n",
      "142:\tlearn: 0.1837650\ttotal: 2.71s\tremaining: 2.97s\n",
      "143:\tlearn: 0.1831131\ttotal: 2.73s\tremaining: 2.95s\n",
      "144:\tlearn: 0.1829867\ttotal: 2.74s\tremaining: 2.93s\n",
      "145:\tlearn: 0.1826290\ttotal: 2.76s\tremaining: 2.91s\n",
      "146:\tlearn: 0.1822917\ttotal: 2.78s\tremaining: 2.89s\n",
      "147:\tlearn: 0.1818235\ttotal: 2.79s\tremaining: 2.87s\n",
      "148:\tlearn: 0.1816588\ttotal: 2.81s\tremaining: 2.85s\n",
      "149:\tlearn: 0.1810574\ttotal: 2.83s\tremaining: 2.83s\n",
      "150:\tlearn: 0.1807866\ttotal: 2.85s\tremaining: 2.81s\n",
      "151:\tlearn: 0.1804647\ttotal: 2.87s\tremaining: 2.79s\n",
      "152:\tlearn: 0.1797767\ttotal: 2.88s\tremaining: 2.77s\n",
      "153:\tlearn: 0.1794226\ttotal: 2.9s\tremaining: 2.75s\n",
      "154:\tlearn: 0.1788057\ttotal: 2.92s\tremaining: 2.73s\n",
      "155:\tlearn: 0.1783281\ttotal: 2.94s\tremaining: 2.71s\n",
      "156:\tlearn: 0.1779482\ttotal: 2.95s\tremaining: 2.69s\n",
      "157:\tlearn: 0.1773646\ttotal: 2.97s\tremaining: 2.67s\n",
      "158:\tlearn: 0.1770439\ttotal: 2.99s\tremaining: 2.65s\n",
      "159:\tlearn: 0.1768487\ttotal: 3s\tremaining: 2.63s\n",
      "160:\tlearn: 0.1762822\ttotal: 3.02s\tremaining: 2.61s\n",
      "161:\tlearn: 0.1760124\ttotal: 3.04s\tremaining: 2.59s\n",
      "162:\tlearn: 0.1757388\ttotal: 3.06s\tremaining: 2.57s\n",
      "163:\tlearn: 0.1754733\ttotal: 3.08s\tremaining: 2.55s\n",
      "164:\tlearn: 0.1751625\ttotal: 3.09s\tremaining: 2.53s\n",
      "165:\tlearn: 0.1751061\ttotal: 3.11s\tremaining: 2.51s\n",
      "166:\tlearn: 0.1747724\ttotal: 3.13s\tremaining: 2.49s\n",
      "167:\tlearn: 0.1742224\ttotal: 3.15s\tremaining: 2.47s\n",
      "168:\tlearn: 0.1735411\ttotal: 3.16s\tremaining: 2.45s\n",
      "169:\tlearn: 0.1732990\ttotal: 3.18s\tremaining: 2.43s\n",
      "170:\tlearn: 0.1730701\ttotal: 3.2s\tremaining: 2.41s\n",
      "171:\tlearn: 0.1726909\ttotal: 3.21s\tremaining: 2.39s\n",
      "172:\tlearn: 0.1722528\ttotal: 3.23s\tremaining: 2.37s\n",
      "173:\tlearn: 0.1719796\ttotal: 3.25s\tremaining: 2.35s\n",
      "174:\tlearn: 0.1717433\ttotal: 3.27s\tremaining: 2.33s\n",
      "175:\tlearn: 0.1715658\ttotal: 3.28s\tremaining: 2.31s\n",
      "176:\tlearn: 0.1710801\ttotal: 3.3s\tremaining: 2.29s\n",
      "177:\tlearn: 0.1707840\ttotal: 3.32s\tremaining: 2.27s\n",
      "178:\tlearn: 0.1703766\ttotal: 3.34s\tremaining: 2.25s\n",
      "179:\tlearn: 0.1695188\ttotal: 3.35s\tremaining: 2.23s\n",
      "180:\tlearn: 0.1691125\ttotal: 3.37s\tremaining: 2.22s\n",
      "181:\tlearn: 0.1688064\ttotal: 3.39s\tremaining: 2.2s\n",
      "182:\tlearn: 0.1685939\ttotal: 3.41s\tremaining: 2.18s\n",
      "183:\tlearn: 0.1681406\ttotal: 3.42s\tremaining: 2.16s\n",
      "184:\tlearn: 0.1680298\ttotal: 3.44s\tremaining: 2.14s\n",
      "185:\tlearn: 0.1678694\ttotal: 3.46s\tremaining: 2.12s\n",
      "186:\tlearn: 0.1677383\ttotal: 3.49s\tremaining: 2.11s\n",
      "187:\tlearn: 0.1672959\ttotal: 3.54s\tremaining: 2.11s\n",
      "188:\tlearn: 0.1664275\ttotal: 3.55s\tremaining: 2.09s\n",
      "189:\tlearn: 0.1660435\ttotal: 3.57s\tremaining: 2.07s\n",
      "190:\tlearn: 0.1656773\ttotal: 3.59s\tremaining: 2.05s\n",
      "191:\tlearn: 0.1654783\ttotal: 3.6s\tremaining: 2.03s\n",
      "192:\tlearn: 0.1653361\ttotal: 3.62s\tremaining: 2.01s\n",
      "193:\tlearn: 0.1650904\ttotal: 3.64s\tremaining: 1.99s\n",
      "194:\tlearn: 0.1644016\ttotal: 3.66s\tremaining: 1.97s\n",
      "195:\tlearn: 0.1641378\ttotal: 3.68s\tremaining: 1.95s\n",
      "196:\tlearn: 0.1639116\ttotal: 3.69s\tremaining: 1.93s\n",
      "197:\tlearn: 0.1637285\ttotal: 3.71s\tremaining: 1.91s\n",
      "198:\tlearn: 0.1633326\ttotal: 3.73s\tremaining: 1.89s\n",
      "199:\tlearn: 0.1629048\ttotal: 3.75s\tremaining: 1.87s\n",
      "200:\tlearn: 0.1624958\ttotal: 3.77s\tremaining: 1.85s\n",
      "201:\tlearn: 0.1623404\ttotal: 3.78s\tremaining: 1.83s\n",
      "202:\tlearn: 0.1620720\ttotal: 3.8s\tremaining: 1.81s\n",
      "203:\tlearn: 0.1619222\ttotal: 3.82s\tremaining: 1.8s\n",
      "204:\tlearn: 0.1616640\ttotal: 3.83s\tremaining: 1.78s\n",
      "205:\tlearn: 0.1614876\ttotal: 3.85s\tremaining: 1.76s\n",
      "206:\tlearn: 0.1612736\ttotal: 3.87s\tremaining: 1.74s\n",
      "207:\tlearn: 0.1611277\ttotal: 3.89s\tremaining: 1.72s\n",
      "208:\tlearn: 0.1610242\ttotal: 3.91s\tremaining: 1.7s\n",
      "209:\tlearn: 0.1607909\ttotal: 3.92s\tremaining: 1.68s\n",
      "210:\tlearn: 0.1604490\ttotal: 3.94s\tremaining: 1.66s\n",
      "211:\tlearn: 0.1602587\ttotal: 3.96s\tremaining: 1.64s\n",
      "212:\tlearn: 0.1597765\ttotal: 3.98s\tremaining: 1.63s\n",
      "213:\tlearn: 0.1595171\ttotal: 4s\tremaining: 1.61s\n",
      "214:\tlearn: 0.1593917\ttotal: 4.02s\tremaining: 1.59s\n",
      "215:\tlearn: 0.1591987\ttotal: 4.03s\tremaining: 1.57s\n",
      "216:\tlearn: 0.1591736\ttotal: 4.05s\tremaining: 1.55s\n",
      "217:\tlearn: 0.1590179\ttotal: 4.07s\tremaining: 1.53s\n",
      "218:\tlearn: 0.1588875\ttotal: 4.09s\tremaining: 1.51s\n",
      "219:\tlearn: 0.1585943\ttotal: 4.1s\tremaining: 1.49s\n",
      "220:\tlearn: 0.1582709\ttotal: 4.12s\tremaining: 1.47s\n",
      "221:\tlearn: 0.1577269\ttotal: 4.14s\tremaining: 1.45s\n",
      "222:\tlearn: 0.1574287\ttotal: 4.16s\tremaining: 1.44s\n",
      "223:\tlearn: 0.1571521\ttotal: 4.17s\tremaining: 1.42s\n",
      "224:\tlearn: 0.1568237\ttotal: 4.19s\tremaining: 1.4s\n",
      "225:\tlearn: 0.1566400\ttotal: 4.21s\tremaining: 1.38s\n",
      "226:\tlearn: 0.1560939\ttotal: 4.23s\tremaining: 1.36s\n",
      "227:\tlearn: 0.1559290\ttotal: 4.24s\tremaining: 1.34s\n",
      "228:\tlearn: 0.1555182\ttotal: 4.26s\tremaining: 1.32s\n",
      "229:\tlearn: 0.1553708\ttotal: 4.28s\tremaining: 1.3s\n",
      "230:\tlearn: 0.1550845\ttotal: 4.3s\tremaining: 1.28s\n",
      "231:\tlearn: 0.1546925\ttotal: 4.31s\tremaining: 1.26s\n",
      "232:\tlearn: 0.1544294\ttotal: 4.33s\tremaining: 1.25s\n",
      "233:\tlearn: 0.1542315\ttotal: 4.35s\tremaining: 1.23s\n",
      "234:\tlearn: 0.1539965\ttotal: 4.37s\tremaining: 1.21s\n",
      "235:\tlearn: 0.1538275\ttotal: 4.39s\tremaining: 1.19s\n",
      "236:\tlearn: 0.1535731\ttotal: 4.4s\tremaining: 1.17s\n",
      "237:\tlearn: 0.1533270\ttotal: 4.42s\tremaining: 1.15s\n",
      "238:\tlearn: 0.1528934\ttotal: 4.44s\tremaining: 1.13s\n",
      "239:\tlearn: 0.1526869\ttotal: 4.46s\tremaining: 1.11s\n",
      "240:\tlearn: 0.1523602\ttotal: 4.47s\tremaining: 1.09s\n",
      "241:\tlearn: 0.1518824\ttotal: 4.49s\tremaining: 1.08s\n",
      "242:\tlearn: 0.1515314\ttotal: 4.51s\tremaining: 1.06s\n",
      "243:\tlearn: 0.1513944\ttotal: 4.53s\tremaining: 1.04s\n",
      "244:\tlearn: 0.1509497\ttotal: 4.54s\tremaining: 1.02s\n",
      "245:\tlearn: 0.1507532\ttotal: 4.56s\tremaining: 1s\n",
      "246:\tlearn: 0.1505272\ttotal: 4.58s\tremaining: 983ms\n",
      "247:\tlearn: 0.1502582\ttotal: 4.6s\tremaining: 964ms\n",
      "248:\tlearn: 0.1501073\ttotal: 4.62s\tremaining: 945ms\n",
      "249:\tlearn: 0.1498071\ttotal: 4.63s\tremaining: 927ms\n",
      "250:\tlearn: 0.1496198\ttotal: 4.65s\tremaining: 908ms\n",
      "251:\tlearn: 0.1495130\ttotal: 4.67s\tremaining: 889ms\n",
      "252:\tlearn: 0.1490688\ttotal: 4.68s\tremaining: 870ms\n",
      "253:\tlearn: 0.1489151\ttotal: 4.7s\tremaining: 852ms\n",
      "254:\tlearn: 0.1488026\ttotal: 4.72s\tremaining: 833ms\n",
      "255:\tlearn: 0.1484915\ttotal: 4.74s\tremaining: 814ms\n",
      "256:\tlearn: 0.1482402\ttotal: 4.75s\tremaining: 795ms\n",
      "257:\tlearn: 0.1480773\ttotal: 4.77s\tremaining: 777ms\n",
      "258:\tlearn: 0.1479562\ttotal: 4.79s\tremaining: 758ms\n",
      "259:\tlearn: 0.1477911\ttotal: 4.81s\tremaining: 739ms\n",
      "260:\tlearn: 0.1474310\ttotal: 4.82s\tremaining: 721ms\n",
      "261:\tlearn: 0.1471570\ttotal: 4.84s\tremaining: 702ms\n",
      "262:\tlearn: 0.1468587\ttotal: 4.86s\tremaining: 684ms\n",
      "263:\tlearn: 0.1465713\ttotal: 4.88s\tremaining: 665ms\n",
      "264:\tlearn: 0.1463412\ttotal: 4.89s\tremaining: 646ms\n",
      "265:\tlearn: 0.1460884\ttotal: 4.91s\tremaining: 628ms\n",
      "266:\tlearn: 0.1459598\ttotal: 4.93s\tremaining: 609ms\n",
      "267:\tlearn: 0.1458207\ttotal: 4.95s\tremaining: 591ms\n",
      "268:\tlearn: 0.1455981\ttotal: 4.96s\tremaining: 572ms\n",
      "269:\tlearn: 0.1454922\ttotal: 4.98s\tremaining: 553ms\n",
      "270:\tlearn: 0.1453010\ttotal: 5s\tremaining: 535ms\n",
      "271:\tlearn: 0.1450399\ttotal: 5.02s\tremaining: 516ms\n",
      "272:\tlearn: 0.1449468\ttotal: 5.03s\tremaining: 498ms\n",
      "273:\tlearn: 0.1446976\ttotal: 5.05s\tremaining: 479ms\n",
      "274:\tlearn: 0.1443464\ttotal: 5.07s\tremaining: 461ms\n",
      "275:\tlearn: 0.1441286\ttotal: 5.09s\tremaining: 443ms\n",
      "276:\tlearn: 0.1439286\ttotal: 5.11s\tremaining: 424ms\n",
      "277:\tlearn: 0.1436804\ttotal: 5.13s\tremaining: 406ms\n",
      "278:\tlearn: 0.1435831\ttotal: 5.14s\tremaining: 387ms\n",
      "279:\tlearn: 0.1432289\ttotal: 5.16s\tremaining: 369ms\n",
      "280:\tlearn: 0.1429491\ttotal: 5.18s\tremaining: 350ms\n",
      "281:\tlearn: 0.1427912\ttotal: 5.2s\tremaining: 332ms\n",
      "282:\tlearn: 0.1424995\ttotal: 5.21s\tremaining: 313ms\n",
      "283:\tlearn: 0.1423454\ttotal: 5.23s\tremaining: 295ms\n",
      "284:\tlearn: 0.1421778\ttotal: 5.25s\tremaining: 276ms\n",
      "285:\tlearn: 0.1419901\ttotal: 5.27s\tremaining: 258ms\n",
      "286:\tlearn: 0.1417786\ttotal: 5.28s\tremaining: 239ms\n",
      "287:\tlearn: 0.1416846\ttotal: 5.3s\tremaining: 221ms\n",
      "288:\tlearn: 0.1413974\ttotal: 5.32s\tremaining: 202ms\n",
      "289:\tlearn: 0.1411903\ttotal: 5.34s\tremaining: 184ms\n",
      "290:\tlearn: 0.1409498\ttotal: 5.36s\tremaining: 166ms\n",
      "291:\tlearn: 0.1408134\ttotal: 5.37s\tremaining: 147ms\n",
      "292:\tlearn: 0.1406142\ttotal: 5.39s\tremaining: 129ms\n",
      "293:\tlearn: 0.1405329\ttotal: 5.41s\tremaining: 110ms\n",
      "294:\tlearn: 0.1403171\ttotal: 5.42s\tremaining: 92ms\n",
      "295:\tlearn: 0.1401718\ttotal: 5.44s\tremaining: 73.5ms\n",
      "296:\tlearn: 0.1400049\ttotal: 5.46s\tremaining: 55.2ms\n",
      "297:\tlearn: 0.1398757\ttotal: 5.48s\tremaining: 36.8ms\n",
      "298:\tlearn: 0.1396914\ttotal: 5.5s\tremaining: 18.4ms\n",
      "299:\tlearn: 0.1395544\ttotal: 5.51s\tremaining: 0us\n"
     ]
    },
    {
     "data": {
      "text/plain": "<catboost.core.CatBoostClassifier at 0x292a5ebc2e0>"
     },
     "execution_count": 162,
     "metadata": {},
     "output_type": "execute_result"
    }
   ],
   "source": [
    "model_milk_grade = CatBoostClassifier(iterations=300, depth=4, learning_rate=0.1, cat_features=cat_features)\n",
    "model_milk_grade.fit(X_train, y_train)"
   ]
  },
  {
   "cell_type": "markdown",
   "source": [],
   "metadata": {
    "collapsed": false,
    "pycharm": {
     "name": "#%% md\n"
    }
   }
  },
  {
   "cell_type": "markdown",
   "source": [
    "Предсказание на тестовом наборе."
   ],
   "metadata": {
    "collapsed": false,
    "pycharm": {
     "name": "#%% md\n"
    }
   }
  },
  {
   "cell_type": "code",
   "execution_count": 163,
   "metadata": {
    "collapsed": false,
    "jupyter": {
     "outputs_hidden": false
    },
    "pycharm": {
     "name": "#%%\n"
    }
   },
   "outputs": [],
   "source": [
    "y_pred = model_milk_grade.predict(X_test)"
   ]
  },
  {
   "cell_type": "markdown",
   "source": [
    "Оценка точности модели"
   ],
   "metadata": {
    "collapsed": false,
    "pycharm": {
     "name": "#%% md\n"
    }
   }
  },
  {
   "cell_type": "code",
   "execution_count": 164,
   "metadata": {
    "collapsed": false,
    "jupyter": {
     "outputs_hidden": false
    },
    "pycharm": {
     "name": "#%%\n"
    }
   },
   "outputs": [
    {
     "name": "stdout",
     "output_type": "stream",
     "text": [
      "Точность модели: 92.68867924528303 %\n"
     ]
    }
   ],
   "source": [
    "accuracy = accuracy_score(y_test, y_pred)\n",
    "print(f\"Точность модели: {accuracy*100} %\")"
   ]
  },
  {
   "cell_type": "code",
   "execution_count": 165,
   "outputs": [
    {
     "data": {
      "text/plain": "0.9123499843369719"
     },
     "execution_count": 165,
     "metadata": {},
     "output_type": "execute_result"
    }
   ],
   "source": [
    "f1_score(y_test, y_pred, average='macro')"
   ],
   "metadata": {
    "collapsed": false,
    "pycharm": {
     "name": "#%%\n"
    }
   }
  },
  {
   "cell_type": "markdown",
   "source": [
    "Сохранение обученной на тестовых данных модели"
   ],
   "metadata": {
    "collapsed": false,
    "pycharm": {
     "name": "#%% md\n"
    }
   }
  },
  {
   "cell_type": "code",
   "execution_count": 166,
   "metadata": {
    "collapsed": false,
    "jupyter": {
     "outputs_hidden": false
    },
    "pycharm": {
     "name": "#%%\n"
    }
   },
   "outputs": [],
   "source": [
    "model_milk_grade.save_model('model_milk_grade.cbm')"
   ]
  },
  {
   "cell_type": "markdown",
   "source": [
    "Для проверки модели используются две функции:\n",
    "- функция ph_to_t для преобразования активной кислотности в титруемую;\n",
    "- функция классификации молока по входным параметрам:\n",
    "    - активная кислотность;\n",
    "    - температура;\n",
    "    - цвет."
   ],
   "metadata": {
    "collapsed": false,
    "pycharm": {
     "name": "#%% md\n"
    }
   }
  },
  {
   "cell_type": "code",
   "execution_count": 156,
   "metadata": {
    "collapsed": false,
    "jupyter": {
     "outputs_hidden": false
    },
    "pycharm": {
     "name": "#%%\n"
    }
   },
   "outputs": [],
   "source": [
    "def ph_to_t(b):\n",
    "    t1=(16,17,19,20,21)\n",
    "    if b < 6.5 or b > 6.8: c=t1[4]\n",
    "    if b == 6.5: c=t1[3]\n",
    "    if b == 6.6: c= t1[2]\n",
    "    if b == 6.7: c=t1[1]\n",
    "    if b == 6.8: c=t1[0]\n",
    "    return c\n"
   ]
  },
  {
   "cell_type": "code",
   "execution_count": 157,
   "metadata": {
    "collapsed": false,
    "jupyter": {
     "outputs_hidden": false
    },
    "pycharm": {
     "name": "#%%\n"
    }
   },
   "outputs": [],
   "source": [
    "def forecast_milk_grade(ph:float, temperature:int, color:int):\n",
    "    new_milk_grade = pd.DataFrame({'ph': [ph], 'temperature': [temperature], 'color': [color]})\n",
    "    new_milk_grade['ph'] = new_milk_grade['ph'].astype('float')\n",
    "    a=new_milk_grade.iloc[[0],[0]]\n",
    "    b=a['ph'].squeeze()\n",
    "    print(b)\n",
    "    new_milk_grade['t'] = ph_to_t(b)\n",
    "    print(new_milk_grade.info())\n",
    "    print(new_milk_grade.head())\n",
    "    model_milk_grade = CatBoostClassifier()\n",
    "    model_milk_grade.load_model('model_milk_grade.cbm')\n",
    "    forecast = model_milk_grade.predict(new_milk_grade)[0]\n",
    "    if forecast == 0: result = \"непригодное\"\n",
    "    if forecast == 1: result = \"умеренное\"\n",
    "    if forecast == 2: result = \"высокое\"\n",
    "    return print(f\"Прогноз качества молока: {result}\")"
   ]
  },
  {
   "cell_type": "markdown",
   "source": [
    "Вызов функция классификации молока для тестирования модели."
   ],
   "metadata": {
    "collapsed": false,
    "pycharm": {
     "name": "#%% md\n"
    }
   }
  },
  {
   "cell_type": "code",
   "execution_count": 158,
   "metadata": {
    "collapsed": false,
    "jupyter": {
     "outputs_hidden": false
    },
    "pycharm": {
     "name": "#%%\n"
    }
   },
   "outputs": [
    {
     "name": "stdout",
     "output_type": "stream",
     "text": [
      "6.8\n",
      "<class 'pandas.core.frame.DataFrame'>\n",
      "RangeIndex: 1 entries, 0 to 0\n",
      "Data columns (total 4 columns):\n",
      " #   Column       Non-Null Count  Dtype  \n",
      "---  ------       --------------  -----  \n",
      " 0   ph           1 non-null      float64\n",
      " 1   temperature  1 non-null      int64  \n",
      " 2   color        1 non-null      int64  \n",
      " 3   t            1 non-null      int64  \n",
      "dtypes: float64(1), int64(3)\n",
      "memory usage: 160.0 bytes\n",
      "None\n",
      "    ph  temperature  color   t\n",
      "0  6.8           45    255  16\n",
      "Прогноз качества молока: высокое\n"
     ]
    }
   ],
   "source": [
    "forecast_milk_grade(6.8, 45, 255)"
   ]
  },
  {
   "cell_type": "code",
   "execution_count": 158,
   "outputs": [],
   "source": [],
   "metadata": {
    "collapsed": false,
    "pycharm": {
     "name": "#%%\n"
    }
   }
  },
  {
   "cell_type": "markdown",
   "source": [
    "Необходимо добавить ограничение на входные параметры:\n",
    "Температура > 34\n",
    "Цвет > 243"
   ],
   "metadata": {
    "collapsed": false,
    "pycharm": {
     "name": "#%% md\n"
    }
   }
  }
 ],
 "metadata": {
  "kernelspec": {
   "display_name": "Python 3 (ipykernel)",
   "language": "python",
   "name": "python3"
  },
  "language_info": {
   "codemirror_mode": {
    "name": "ipython",
    "version": 3
   },
   "file_extension": ".py",
   "mimetype": "text/x-python",
   "name": "python",
   "nbconvert_exporter": "python",
   "pygments_lexer": "ipython3",
   "version": "3.9.13"
  }
 },
 "nbformat": 4,
 "nbformat_minor": 4
}